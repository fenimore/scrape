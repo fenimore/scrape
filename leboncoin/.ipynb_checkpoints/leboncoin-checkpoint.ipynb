{
 "cells": [
  {
   "cell_type": "code",
   "execution_count": 118,
   "metadata": {
    "collapsed": true
   },
   "outputs": [],
   "source": [
    "import sys, requests, os, re, datetime\n",
    "from bs4 import BeautifulSoup\n",
    "\n",
    "# This is where the files are hosted\n",
    "url= \"http://www.leboncoin.fr/informatique/offres/ile_de_france/?ps=4&pe=8&q=thinkpad&th=1\"\n",
    "\n",
    "#inner_urls = []\n",
    "#this'll be an array of dicionaries"
   ]
  },
  {
   "cell_type": "markdown",
   "metadata": {},
   "source": [
    "Designed for computers, but could be used for anything I suppose with the right link\n",
    "Inside the link parameters:\n",
    "- th = photographs (0 = none)\n",
    "- ps = low price\n",
    "- pe = highest price\n",
    "- q = keywords (can take and/or operators, and more)"
   ]
  },
  {
   "cell_type": "code",
   "execution_count": 6,
   "metadata": {
    "collapsed": false
   },
   "outputs": [],
   "source": [
    "def scrape_listings(url):\n",
    "    computers = []#set()# define array of listings\n",
    "    r = requests.get(url)\n",
    "    soup = BeautifulSoup(r.text, 'html.parser')\n",
    "    ordinateurs = soup.find_all(\"div\", {\"class\":\"lbc\"}) # These are the unsifted listings\n",
    "    x = 0 # Counter, Why not?\n",
    "    for ordinateur in ordinateurs:\n",
    "        url = ordinateur.find_parent('a')['href']\n",
    "        #images need to be something like, if in class=image div, find img element \n",
    "        image_url = \"\" #ordinateur.find(\"img\")['src'].text\n",
    "        date = ordinateur.find(\"div\", {'class':'date'}).text.replace('\\n',\" \").strip()\n",
    "        details = ordinateur.find('div', {'class':'detail'})\n",
    "        title = str(details.find('h2', {'class':'title'}).string).replace('\\n', '').strip()\n",
    "        category = str(details.find('div', {'class':'category'}).string).replace('\\n', '').strip()\n",
    "        placement = str(details.find('div', {'class':'placement'}).string).replace('\\n', '').strip().replace('                                                                                            /                                                                                                                            \t                                        ',\" \")\n",
    "        price =  str(details.find('div', {'class':'price'}).string).replace('\\n', '').strip()\n",
    "        ## Images are a bit more complicated:\n",
    "        try:\n",
    "            image_div = ordinateur.find('div', {'class':'image'})\n",
    "            image_nb = image_div.find('div', {'class':'image-and-nb'})\n",
    "            image_url = image_nb.find('img')['src']\n",
    "        except:\n",
    "            image_url = \"https://upload.wikimedia.org/wikipedia/commons/thumb/a/ac/No_image_available.svg/200px-No_image_available.svg.png\" # No-image image        \n",
    "        # The ordinateur has english attributes\n",
    "        # et le computer avais les francais\n",
    "        computer = {'url':url, 'titre': title, 'prix': price,'location': placement, 'image': image_url, 'date':date, 'category': category }\n",
    "        #computer_set = {tuple(sorted(computer.items()))}\n",
    "        # computer is a dictionary, so far lacking the actual url\n",
    "        computers.append(computer)\n",
    "        #x += 1\n",
    "        #computers = computers  | computer_set\n",
    "        #print(x)\n",
    "    return computers\n",
    "\n",
    "def get_recent(computers): # get the computers listed TODAY\n",
    "    recent_computers = []\n",
    "    for computer in computers:\n",
    "        today = str(datetime.datetime.now().day) + '-' + str(datetime.datetime.now().month)\n",
    "        c = re.compile('Aujourd\\'hui')\n",
    "        if c.match(computer['date']):\n",
    "            computer['date'] = computer['date'].replace('Aujourd\\'hui', today)\n",
    "            computer = tuple(sorted(computer))            \n",
    "            recent_computers.append(computer)\n",
    "    return recent_computers"
   ]
  },
  {
   "cell_type": "code",
   "execution_count": 66,
   "metadata": {
    "collapsed": false
   },
   "outputs": [
    {
     "data": {
      "text/plain": [
       "35"
      ]
     },
     "execution_count": 66,
     "metadata": {},
     "output_type": "execute_result"
    }
   ],
   "source": [
    "computers = scrape_listings(url)\n",
    "len(computers)"
   ]
  },
  {
   "cell_type": "code",
   "execution_count": 16,
   "metadata": {
    "collapsed": false
   },
   "outputs": [
    {
     "name": "stdout",
     "output_type": "stream",
     "text": [
      "[('category', ''), ('date', \"Aujourd'hui 19:33\"), ('image', 'http://img0.leboncoin.fr/thumbs/b3b/b3b63e4c023f786309556297a964d14e92084094.jpg'), ('location', 'Rueil-Malmaison Hauts-de-Seine'), ('prix', '90\\xa0€'), ('titre', 'PC portable LENOVO ThinkPad X61s'), ('url', 'http://www.leboncoin.fr/informatique/858391726.htm?ca=12_s')]\n"
     ]
    }
   ],
   "source": [
    "\n",
    "computer = computers[0]\n",
    "computer.items()\n",
    "print(sorted(computer.items()))\n",
    "comp_set_0= tuple(sorted(computer.items()))\n",
    "\n",
    "computer = computers[1]\n",
    "computer.items()\n",
    "print(sorted(computer.items()))\n",
    "comp_set_1= tuple(sorted(computer.items()))\n",
    "\n",
    "computer = computers[2]\n",
    "computer.items()\n",
    "print(sorted(computer.items()))\n",
    "comp_set_2= tuple(sorted(computer.items()))\n",
    "\n",
    "computer = computers[3]\n",
    "computer.items()\n",
    "print(sorted(computer.items()))\n",
    "comp_set_3= tuple(sorted(computer.items()))\n",
    "\n",
    "computer = computers[4]\n",
    "computer.items()\n",
    "print(sorted(computer.items()))\n",
    "comp_set_3= tuple(sorted(computer.items()))"
   ]
  },
  {
   "cell_type": "code",
   "execution_count": 68,
   "metadata": {
    "collapsed": false
   },
   "outputs": [],
   "source": [
    "l_tuples = []\n",
    "for x in computers:\n",
    "    tup = tuple(sorted(x.items()))\n",
    "    l_tuples.append(tup)"
   ]
  },
  {
   "cell_type": "code",
   "execution_count": 70,
   "metadata": {
    "collapsed": false
   },
   "outputs": [
    {
     "data": {
      "text/plain": [
       "(('category', ''),\n",
       " ('date', \"Aujourd'hui 20:06\"),\n",
       " ('image',\n",
       "  'http://img2.leboncoin.fr/thumbs/ae6/ae6c31c905ca993f806ad3c94f22489742e9898e.jpg'),\n",
       " ('location', 'Rueil-Malmaison Hauts-de-Seine'),\n",
       " ('prix', '100\\xa0€'),\n",
       " ('titre', 'Pc portable ibm thinkpad t23'),\n",
       " ('url', 'http://www.leboncoin.fr/informatique/833961088.htm?ca=12_s'))"
      ]
     },
     "execution_count": 70,
     "metadata": {},
     "output_type": "execute_result"
    }
   ],
   "source": [
    "l_tuples[0]"
   ]
  },
  {
   "cell_type": "code",
   "execution_count": 104,
   "metadata": {
    "collapsed": false
   },
   "outputs": [],
   "source": []
  },
  {
   "cell_type": "code",
   "execution_count": 112,
   "metadata": {
    "collapsed": false
   },
   "outputs": [
    {
     "name": "stdout",
     "output_type": "stream",
     "text": [
      "2\n",
      "4\n"
     ]
    }
   ],
   "source": [
    "a_set = set()\n",
    "b_set = set()\n",
    "\n",
    "b_set.add(l_tuples[2]) # b is the total \n",
    "b_set.add(l_tuples[3])\n",
    "b_set.add(l_tuples[4])\n",
    "b_set.add(l_tuples[5])\n",
    "b_set.add(l_tuples[6])\n",
    "b_set.add(l_tuples[7])\n",
    "a_set.add(l_tuples[0]) # latest entries\n",
    "a_set.add(l_tuples[1])\n",
    "a_set.add(l_tuples[2])\n",
    "a_set.add(l_tuples[3])\n",
    "\n",
    "c_set = a_set - b_set # take the items unique to a\n",
    "# c is what we want to print\n",
    "# must add it to the total set\n",
    "b_set = a_set\n",
    "print(len(list(c_set)))\n",
    "print(len(list(b_set)))\n",
    "#final_set = a_set - b_set\n",
    "\n",
    "#print(\"\\n\")\n",
    "#print(a_set)\n",
    "#print(\"\\n\")\n",
    "#print(b_set)\n",
    "#print(c_set)"
   ]
  },
  {
   "cell_type": "code",
   "execution_count": 107,
   "metadata": {
    "collapsed": false
   },
   "outputs": [
    {
     "data": {
      "text/plain": [
       "({(('category', ''),\n",
       "   ('date', \"Aujourd'hui 10:04\"),\n",
       "   ('image',\n",
       "    'http://img3.leboncoin.fr/thumbs/67e/67e1980ec1f599531738f74fd699360dd5899577.jpg'),\n",
       "   ('location', 'Paris 14ème'),\n",
       "   ('prix', '165\\xa0€'),\n",
       "   ('titre', 'Station d Accueil ThinkPad Pro Dock - Europe'),\n",
       "   ('url', 'http://www.leboncoin.fr/informatique/858107873.htm?ca=12_s')),\n",
       "  (('category', ''),\n",
       "   ('date', \"Aujourd'hui 14:37\"),\n",
       "   ('image',\n",
       "    'http://img6.leboncoin.fr/thumbs/db2/db2c73bd6e690f8a544a2e196dcc75df171d931d.jpg'),\n",
       "   ('location', 'Champs-sur-Marne Seine-et-Marne'),\n",
       "   ('prix', '130\\xa0€'),\n",
       "   ('titre', 'Lenovo T400 2.4 Ghz / 2Gb RAM / 160 Go / Webcam'),\n",
       "   ('url', 'http://www.leboncoin.fr/informatique/858234268.htm?ca=12_s')),\n",
       "  (('category', '(pro)'),\n",
       "   ('date', \"Aujourd'hui 11:33\"),\n",
       "   ('image',\n",
       "    'http://img7.leboncoin.fr/thumbs/b88/b887d733707479767ff838aeba11fb552838ec92.jpg'),\n",
       "   ('location', \"Sannois Val-d'Oise\"),\n",
       "   ('prix', '89\\xa0€'),\n",
       "   ('titre', 'Destockage PC portable DELL HP LENOVO ACER dès 89€'),\n",
       "   ('url', 'http://www.leboncoin.fr/informatique/844651728.htm?ca=12_s')),\n",
       "  (('category', '(pro)'),\n",
       "   ('date', \"Aujourd'hui 11:47\"),\n",
       "   ('image',\n",
       "    'https://upload.wikimedia.org/wikipedia/commons/thumb/a/ac/No_image_available.svg/200px-No_image_available.svg.png'),\n",
       "   ('location', 'Montreuil Seine-Saint-Denis'),\n",
       "   ('prix', '100\\xa0€'),\n",
       "   ('titre', 'Destockage Materiel Informatique occasion'),\n",
       "   ('url', 'http://www.leboncoin.fr/informatique/855438789.htm?ca=12_s')),\n",
       "  (('category', '(pro)'),\n",
       "   ('date', \"Aujourd'hui 14:35\"),\n",
       "   ('image',\n",
       "    'http://img7.leboncoin.fr/thumbs/15d/15d3d289c93d8036cd37418433352e871d8c6093.jpg'),\n",
       "   ('location', 'Clichy Hauts-de-Seine'),\n",
       "   ('prix', '169\\xa0€'),\n",
       "   ('titre', 'Ordinateur portable pc DELL E6420 I5 /DVDRW/WIN7'),\n",
       "   ('url', 'http://www.leboncoin.fr/informatique/817271293.htm?ca=12_s')),\n",
       "  (('category', '(pro)'),\n",
       "   ('date', \"Aujourd'hui 16:40\"),\n",
       "   ('image',\n",
       "    'http://img4.leboncoin.fr/thumbs/47a/47acb766f4c314bf22cd2f6aa59a6903ade639f4.jpg'),\n",
       "   ('location', 'Clichy Hauts-de-Seine'),\n",
       "   ('prix', '95\\xa0€'),\n",
       "   ('titre', 'Ordinateur portable FUJI mobile U9200 C2D/CAM/DVD'),\n",
       "   ('url', 'http://www.leboncoin.fr/informatique/837929604.htm?ca=12_s'))},\n",
       " {(('category', ''),\n",
       "   ('date', \"Aujourd'hui 19:33\"),\n",
       "   ('image',\n",
       "    'http://img0.leboncoin.fr/thumbs/b3b/b3b63e4c023f786309556297a964d14e92084094.jpg'),\n",
       "   ('location', 'Rueil-Malmaison Hauts-de-Seine'),\n",
       "   ('prix', '90\\xa0€'),\n",
       "   ('titre', 'PC portable LENOVO ThinkPad X61s'),\n",
       "   ('url', 'http://www.leboncoin.fr/informatique/858391726.htm?ca=12_s')),\n",
       "  (('category', ''),\n",
       "   ('date', \"Aujourd'hui 20:06\"),\n",
       "   ('image',\n",
       "    'http://img2.leboncoin.fr/thumbs/ae6/ae6c31c905ca993f806ad3c94f22489742e9898e.jpg'),\n",
       "   ('location', 'Rueil-Malmaison Hauts-de-Seine'),\n",
       "   ('prix', '100\\xa0€'),\n",
       "   ('titre', 'Pc portable ibm thinkpad t23'),\n",
       "   ('url', 'http://www.leboncoin.fr/informatique/833961088.htm?ca=12_s'))})"
      ]
     },
     "execution_count": 107,
     "metadata": {},
     "output_type": "execute_result"
    }
   ],
   "source": []
  },
  {
   "cell_type": "code",
   "execution_count": 121,
   "metadata": {
    "collapsed": false
   },
   "outputs": [
    {
     "data": {
      "text/plain": [
       "[{'category': '',\n",
       "  'date': \"Aujourd'hui 19:33\",\n",
       "  'image': 'http://img0.leboncoin.fr/thumbs/b3b/b3b63e4c023f786309556297a964d14e92084094.jpg',\n",
       "  'location': 'Rueil-Malmaison Hauts-de-Seine',\n",
       "  'prix': '90\\xa0€',\n",
       "  'titre': 'PC portable LENOVO ThinkPad X61s',\n",
       "  'url': 'http://www.leboncoin.fr/informatique/858391726.htm?ca=12_s'},\n",
       " {'category': '',\n",
       "  'date': \"Aujourd'hui 20:06\",\n",
       "  'image': 'http://img2.leboncoin.fr/thumbs/ae6/ae6c31c905ca993f806ad3c94f22489742e9898e.jpg',\n",
       "  'location': 'Rueil-Malmaison Hauts-de-Seine',\n",
       "  'prix': '100\\xa0€',\n",
       "  'titre': 'Pc portable ibm thinkpad t23',\n",
       "  'url': 'http://www.leboncoin.fr/informatique/833961088.htm?ca=12_s'}]"
      ]
     },
     "execution_count": 121,
     "metadata": {},
     "output_type": "execute_result"
    }
   ],
   "source": [
    "zero = list(c_set)[0]\n",
    "one = list(c_set)[1]\n",
    "len(c_set)\n",
    "type(l_s)\n",
    "#dict(l_s)\n",
    "l_s"
   ]
  },
  {
   "cell_type": "code",
   "execution_count": 110,
   "metadata": {
    "collapsed": false
   },
   "outputs": [
    {
     "data": {
      "text/plain": [
       "{'category': '',\n",
       " 'date': \"Aujourd'hui 19:33\",\n",
       " 'image': 'http://img0.leboncoin.fr/thumbs/b3b/b3b63e4c023f786309556297a964d14e92084094.jpg',\n",
       " 'location': 'Rueil-Malmaison Hauts-de-Seine',\n",
       " 'prix': '90\\xa0€',\n",
       " 'titre': 'PC portable LENOVO ThinkPad X61s',\n",
       " 'url': 'http://www.leboncoin.fr/informatique/858391726.htm?ca=12_s'}"
      ]
     },
     "execution_count": 110,
     "metadata": {},
     "output_type": "execute_result"
    }
   ],
   "source": [
    "dict(zero)"
   ]
  },
  {
   "cell_type": "code",
   "execution_count": 40,
   "metadata": {
    "collapsed": false
   },
   "outputs": [
    {
     "data": {
      "text/plain": [
       "{(('category', ''),\n",
       "  ('date', \"Aujourd'hui 19:33\"),\n",
       "  ('image',\n",
       "   'http://img0.leboncoin.fr/thumbs/b3b/b3b63e4c023f786309556297a964d14e92084094.jpg'),\n",
       "  ('location', 'Rueil-Malmaison Hauts-de-Seine'),\n",
       "  ('prix', '90\\xa0€'),\n",
       "  ('titre', 'PC portable LENOVO ThinkPad X61s'),\n",
       "  ('url', 'http://www.leboncoin.fr/informatique/858391726.htm?ca=12_s')),\n",
       " (('category', ''),\n",
       "  ('date', \"Aujourd'hui 20:06\"),\n",
       "  ('image',\n",
       "   'http://img2.leboncoin.fr/thumbs/ae6/ae6c31c905ca993f806ad3c94f22489742e9898e.jpg'),\n",
       "  ('location', 'Rueil-Malmaison Hauts-de-Seine'),\n",
       "  ('prix', '100\\xa0€'),\n",
       "  ('titre', 'Pc portable ibm thinkpad t23'),\n",
       "  ('url', 'http://www.leboncoin.fr/informatique/833961088.htm?ca=12_s'))}"
      ]
     },
     "execution_count": 40,
     "metadata": {},
     "output_type": "execute_result"
    }
   ],
   "source": [
    "a_set"
   ]
  },
  {
   "cell_type": "code",
   "execution_count": 42,
   "metadata": {
    "collapsed": false
   },
   "outputs": [
    {
     "ename": "TypeError",
     "evalue": "'set' object does not support indexing",
     "output_type": "error",
     "traceback": [
      "\u001b[1;31m---------------------------------------------------------------------------\u001b[0m",
      "\u001b[1;31mTypeError\u001b[0m                                 Traceback (most recent call last)",
      "\u001b[1;32m<ipython-input-42-99823fbb35ce>\u001b[0m in \u001b[0;36m<module>\u001b[1;34m()\u001b[0m\n\u001b[1;32m----> 1\u001b[1;33m \u001b[0ma_set\u001b[0m\u001b[1;33m[\u001b[0m\u001b[1;36m1\u001b[0m\u001b[1;33m]\u001b[0m\u001b[1;33m\u001b[0m\u001b[0m\n\u001b[0m",
      "\u001b[1;31mTypeError\u001b[0m: 'set' object does not support indexing"
     ]
    }
   ],
   "source": [
    "a_set[1]"
   ]
  },
  {
   "cell_type": "code",
   "execution_count": 37,
   "metadata": {
    "collapsed": false
   },
   "outputs": [
    {
     "data": {
      "text/plain": [
       "set"
      ]
     },
     "execution_count": 37,
     "metadata": {},
     "output_type": "execute_result"
    }
   ],
   "source": [
    "type(a_set)"
   ]
  },
  {
   "cell_type": "code",
   "execution_count": 27,
   "metadata": {
    "collapsed": false
   },
   "outputs": [
    {
     "name": "stdout",
     "output_type": "stream",
     "text": [
      "{'prix': '95\\xa0€', 'url': 'http://www.leboncoin.fr/informatique/837929604.htm?ca=12_s', 'image': 'http://img4.leboncoin.fr/thumbs/47a/47acb766f4c314bf22cd2f6aa59a6903ade639f4.jpg', 'category': '(pro)', 'date': '19-9 16:41', 'titre': 'Ordinateur portable FUJI mobile U9200 C2D/CAM/DVD', 'location': 'Clichy Hauts-de-Seine'}\n",
      "{'prix': '169\\xa0€', 'url': 'http://www.leboncoin.fr/informatique/817271293.htm?ca=12_s', 'image': 'http://img7.leboncoin.fr/thumbs/15d/15d3d289c93d8036cd37418433352e871d8c6093.jpg', 'category': '(pro)', 'date': '19-9 14:38', 'titre': 'Ordinateur portable pc DELL E6420 I5 /DVDRW/WIN7', 'location': 'Clichy Hauts-de-Seine'}\n",
      "{'prix': '140\\xa0€', 'url': 'http://www.leboncoin.fr/informatique/856805605.htm?ca=12_s', 'image': 'http://img4.leboncoin.fr/thumbs/d4e/d4e72e222383b0802edae2c3968b718331d3e090.jpg', 'category': '', 'date': '19-9 13:39', 'titre': 'Lenovo x201', 'location': 'Essonne'}\n",
      "{'prix': '89\\xa0€', 'url': 'http://www.leboncoin.fr/informatique/844651728.htm?ca=12_s', 'image': 'http://img7.leboncoin.fr/thumbs/b88/b887d733707479767ff838aeba11fb552838ec92.jpg', 'category': '(pro)', 'date': '19-9 11:47', 'titre': 'Destockage PC portable DELL HP LENOVO ACER dès 89€', 'location': \"Sannois Val-d'Oise\"}\n",
      "{'prix': '80\\xa0€', 'url': 'http://www.leboncoin.fr/informatique/856711650.htm?ca=12_s', 'image': 'http://img7.leboncoin.fr/thumbs/0f9/0f962a5cbb565cdba64af622aa7fea45a99e4230.jpg', 'category': '', 'date': '19-9 10:17', 'titre': 'Lenovo tinkpad x200', 'location': \"Ermont Val-d'Oise\"}\n"
     ]
    }
   ],
   "source": [
    "for item in computers:\n",
    "    if item in new_array:\n",
    "        print(item)"
   ]
  },
  {
   "cell_type": "code",
   "execution_count": 29,
   "metadata": {
    "collapsed": false
   },
   "outputs": [
    {
     "name": "stdout",
     "output_type": "stream",
     "text": [
      "{'prix': '125\\xa0€', 'url': 'http://www.leboncoin.fr/informatique/856927313.htm?ca=12_s', 'image': 'http://img3.leboncoin.fr/thumbs/370/37072403aaccf5311acd59cb938d94dc1c1e2e4a.jpg', 'category': '', 'date': '19-9 17:28', 'titre': 'Lenovo X201 Corei5 Webcam 4Go 160Go Batok', 'location': 'Paris 17ème'}\n",
      "{'prix': '95\\xa0€', 'url': 'http://www.leboncoin.fr/informatique/837929604.htm?ca=12_s', 'image': 'http://img4.leboncoin.fr/thumbs/47a/47acb766f4c314bf22cd2f6aa59a6903ade639f4.jpg', 'category': '(pro)', 'date': '19-9 16:41', 'titre': 'Ordinateur portable FUJI mobile U9200 C2D/CAM/DVD', 'location': 'Clichy Hauts-de-Seine'}\n",
      "{'prix': '169\\xa0€', 'url': 'http://www.leboncoin.fr/informatique/817271293.htm?ca=12_s', 'image': 'http://img7.leboncoin.fr/thumbs/15d/15d3d289c93d8036cd37418433352e871d8c6093.jpg', 'category': '(pro)', 'date': '19-9 14:38', 'titre': 'Ordinateur portable pc DELL E6420 I5 /DVDRW/WIN7', 'location': 'Clichy Hauts-de-Seine'}\n",
      "{'prix': '140\\xa0€', 'url': 'http://www.leboncoin.fr/informatique/856805605.htm?ca=12_s', 'image': 'http://img4.leboncoin.fr/thumbs/d4e/d4e72e222383b0802edae2c3968b718331d3e090.jpg', 'category': '', 'date': '19-9 13:39', 'titre': 'Lenovo x201', 'location': 'Essonne'}\n",
      "{'prix': '89\\xa0€', 'url': 'http://www.leboncoin.fr/informatique/844651728.htm?ca=12_s', 'image': 'http://img7.leboncoin.fr/thumbs/b88/b887d733707479767ff838aeba11fb552838ec92.jpg', 'category': '(pro)', 'date': '19-9 11:47', 'titre': 'Destockage PC portable DELL HP LENOVO ACER dès 89€', 'location': \"Sannois Val-d'Oise\"}\n",
      "{'prix': '80\\xa0€', 'url': 'http://www.leboncoin.fr/informatique/856711650.htm?ca=12_s', 'image': 'http://img7.leboncoin.fr/thumbs/0f9/0f962a5cbb565cdba64af622aa7fea45a99e4230.jpg', 'category': '', 'date': '19-9 10:17', 'titre': 'Lenovo tinkpad x200', 'location': \"Ermont Val-d'Oise\"}\n"
     ]
    }
   ],
   "source": [
    "for item in computers:\n",
    "    if item in computers:\n",
    "        print(item)"
   ]
  },
  {
   "cell_type": "code",
   "execution_count": 30,
   "metadata": {
    "collapsed": true
   },
   "outputs": [],
   "source": [
    "for item in computers:\n",
    "    if item in new_array:\n",
    "        new_array.remove(item)"
   ]
  },
  {
   "cell_type": "code",
   "execution_count": 31,
   "metadata": {
    "collapsed": false
   },
   "outputs": [
    {
     "data": {
      "text/plain": [
       "[{'category': '',\n",
       "  'date': '19-9 17:27',\n",
       "  'image': 'http://img0.leboncoin.fr/thumbs/6e2/6e21aab7422aa842a04c9946b1391b27aa3965ee.jpg',\n",
       "  'location': \"Pontoise Val-d'Oise\",\n",
       "  'prix': '150\\xa0€',\n",
       "  'titre': 'Ibm lenovo t500 etat neuf',\n",
       "  'url': 'http://www.leboncoin.fr/informatique/856926338.htm?ca=12_s'},\n",
       " {'category': '',\n",
       "  'date': '19-9 16:37',\n",
       "  'image': 'http://img0.leboncoin.fr/thumbs/7cb/7cbad8e23badc2788f0282ccdc786a60959a0f75.jpg',\n",
       "  'location': 'Coubert Seine-et-Marne',\n",
       "  'prix': '160\\xa0€',\n",
       "  'titre': 'Lenovo X201 I5 Vpro',\n",
       "  'url': 'http://www.leboncoin.fr/informatique/856900406.htm?ca=12_s'},\n",
       " {'category': '',\n",
       "  'date': '19-9 13:44',\n",
       "  'image': 'http://img6.leboncoin.fr/thumbs/9cf/9cfbb2f29cc3daa7706dbc0a5c236c89a765363e.jpg',\n",
       "  'location': 'Nogent-sur-Marne Val-de-Marne',\n",
       "  'prix': '129\\xa0€',\n",
       "  'titre': 'Ordinateur -portable    -Lenovo-thinkpad-T61',\n",
       "  'url': 'http://www.leboncoin.fr/informatique/856808334.htm?ca=12_s'},\n",
       " {'category': '(pro)',\n",
       "  'date': '19-9 11:57',\n",
       "  'image': 'https://upload.wikimedia.org/wikipedia/commons/thumb/a/ac/No_image_available.svg/200px-No_image_available.svg.png',\n",
       "  'location': 'Montreuil Seine-Saint-Denis',\n",
       "  'prix': '100\\xa0€',\n",
       "  'titre': 'Destockage Materiel Informatique occasion',\n",
       "  'url': 'http://www.leboncoin.fr/informatique/855438789.htm?ca=12_s'},\n",
       " {'category': '',\n",
       "  'date': '19-9 10:24',\n",
       "  'image': 'http://img7.leboncoin.fr/thumbs/d51/d5120b4266c5a4cafa435607f0345a0340712c3d.jpg',\n",
       "  'location': 'Paris 5ème',\n",
       "  'prix': '150\\xa0€',\n",
       "  'titre': 'Lenovo T500 15,4\" 4 Go 160 Go Très rapide',\n",
       "  'url': 'http://www.leboncoin.fr/informatique/856715215.htm?ca=12_s'}]"
      ]
     },
     "execution_count": 31,
     "metadata": {},
     "output_type": "execute_result"
    }
   ],
   "source": [
    "new_array"
   ]
  },
  {
   "cell_type": "code",
   "execution_count": null,
   "metadata": {
    "collapsed": true
   },
   "outputs": [],
   "source": []
  }
 ],
 "metadata": {
  "kernelspec": {
   "display_name": "Python 3",
   "language": "python",
   "name": "python3"
  },
  "language_info": {
   "codemirror_mode": {
    "name": "ipython",
    "version": 3
   },
   "file_extension": ".py",
   "mimetype": "text/x-python",
   "name": "python",
   "nbconvert_exporter": "python",
   "pygments_lexer": "ipython3",
   "version": "3.4.3"
  }
 },
 "nbformat": 4,
 "nbformat_minor": 0
}
