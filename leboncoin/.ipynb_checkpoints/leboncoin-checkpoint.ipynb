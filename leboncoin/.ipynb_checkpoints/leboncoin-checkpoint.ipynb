{
 "cells": [
  {
   "cell_type": "code",
   "execution_count": 210,
   "metadata": {
    "collapsed": true
   },
   "outputs": [],
   "source": [
    "import sys, requests, os, re, datetime\n",
    "from bs4 import BeautifulSoup\n",
    "\n",
    "# This is where the files are hosted\n",
    "url= \"http://www.leboncoin.fr/informatique/offres/ile_de_france/?ps=4&pe=8&q=thinkpad&th=1\"\n",
    "\n",
    "#inner_urls = []\n",
    "computers = [] #this'll be an array of dicionaries"
   ]
  },
  {
   "cell_type": "markdown",
   "metadata": {},
   "source": [
    "Designed for computers, but could be used for anything I suppose with the right link\n",
    "Inside the link parameters:\n",
    "- th = photographs (0 = none)\n",
    "- ps = low price\n",
    "- pe = highest price\n",
    "- q = keywords (can take and/or operators, and more)"
   ]
  },
  {
   "cell_type": "code",
   "execution_count": 211,
   "metadata": {
    "collapsed": false
   },
   "outputs": [],
   "source": [
    "def scrape_listings(url):\n",
    "    r = requests.get(url)\n",
    "    soup = BeautifulSoup(r.text, 'html.parser')\n",
    "    ordinateurs = soup.find_all(\"div\", {\"class\":\"lbc\"}) # These are the unsifted listings\n",
    "    x = 0 # Counter, Why not?\n",
    "    for ordinateur in ordinateurs:\n",
    "        url = ordinateur.find_parent('a')['href']\n",
    "        image_url = ordinateur.find(\"img\")['src']\n",
    "        date = ordinateur.find(\"div\", {'class':'date'}).text.replace('\\n',\" \").strip()\n",
    "        details = ordinateur.find('div', {'class':'detail'})\n",
    "        title = str(details.find('h2', {'class':'title'}).string).replace('\\n', '').strip()\n",
    "        category = str(details.find('div', {'class':'category'}).string).replace('\\n', '').strip()\n",
    "        placement = str(details.find('div', {'class':'placement'}).string).replace('\\n', '').strip().replace('                                                                                            /                                                                                                                            \t                                        ',\" \")\n",
    "        price =  str(details.find('div', {'class':'price'}).string).replace('\\n', '').strip()\n",
    "        # The ordinateur has english attributes\n",
    "        # et le computer avais les francais\n",
    "        computer = {'url':url, 'titre': title, 'prix': price,'location': placement, 'image': image_url, 'date':date, 'category': category }\n",
    "        # computer is a dictionary, so far lacking the actual url\n",
    "        computers.append(computer)\n",
    "        x += 1\n",
    "        #print(x)"
   ]
  },
  {
   "cell_type": "code",
   "execution_count": 212,
   "metadata": {
    "collapsed": false
   },
   "outputs": [],
   "source": [
    "scrape_listings(url)"
   ]
  },
  {
   "cell_type": "code",
   "execution_count": 213,
   "metadata": {
    "collapsed": false
   },
   "outputs": [
    {
     "name": "stdout",
     "output_type": "stream",
     "text": [
      "{'category': '(pro)', 'titre': 'Ordinateur portable FUJI mobile U9200 C2D/CAM/DVD', 'prix': '95\\xa0€', 'image': 'http://img4.leboncoin.fr/thumbs/47a/47acb766f4c314bf22cd2f6aa59a6903ade639f4.jpg', 'location': 'Clichy Hauts-de-Seine', 'date': \"Aujourd'hui 16:26\", 'url': 'http://www.leboncoin.fr/informatique/837929604.htm?ca=12_s'}\n"
     ]
    }
   ],
   "source": [
    "#for computer in computers:\n",
    "#    print(computer)\n",
    "print(computers[1])"
   ]
  },
  {
   "cell_type": "code",
   "execution_count": 214,
   "metadata": {
    "collapsed": false
   },
   "outputs": [
    {
     "name": "stdout",
     "output_type": "stream",
     "text": [
      "[{'category': '', 'titre': 'Lenovo R400 core2duo 2.3Ghz 120G 2G wind 7 DVD 14\"', 'prix': '120\\xa0€', 'image': 'http://img5.leboncoin.fr/thumbs/71e/71e6c3163468353afcd06c639a0b37fc7a12f892.jpg', 'location': 'Pierrefitte-sur-Seine Seine-Saint-Denis', 'date': '15-9 20:52', 'url': 'http://www.leboncoin.fr/informatique/855255836.htm?ca=12_s'}, {'category': '(pro)', 'titre': 'Ordinateur portable FUJI mobile U9200 C2D/CAM/DVD', 'prix': '95\\xa0€', 'image': 'http://img4.leboncoin.fr/thumbs/47a/47acb766f4c314bf22cd2f6aa59a6903ade639f4.jpg', 'location': 'Clichy Hauts-de-Seine', 'date': '15-9 16:26', 'url': 'http://www.leboncoin.fr/informatique/837929604.htm?ca=12_s'}, {'category': '(pro)', 'titre': 'Ordinateur portable pc DELL E6420 I5/CAM/DVD/WIN7', 'prix': '179\\xa0€', 'image': 'http://img5.leboncoin.fr/thumbs/915/915f407d5f69faf36cec8c03ebd3adfb6d49a833.jpg', 'location': 'Clichy Hauts-de-Seine', 'date': '15-9 14:32', 'url': 'http://www.leboncoin.fr/informatique/817271293.htm?ca=12_s'}, {'category': '(pro)', 'titre': 'Destockage PC portable DELL HP LENOVO ACER dès 89€', 'prix': '89\\xa0€', 'image': 'http://img7.leboncoin.fr/thumbs/b88/b887d733707479767ff838aeba11fb552838ec92.jpg', 'location': \"Sannois Val-d'Oise\", 'date': '15-9 11:44', 'url': 'http://www.leboncoin.fr/informatique/844651728.htm?ca=12_s'}, {'category': '', 'titre': 'Lenovo ThinkPad L430', 'prix': '120\\xa0€', 'image': 'http://img4.leboncoin.fr/thumbs/367/3676a843808fb8bccc2360c6ca8a0892631f918c.jpg', 'location': 'Paris 1er', 'date': '15-9 11:15', 'url': 'http://www.leboncoin.fr/informatique/854970036.htm?ca=12_s'}, {'category': '', 'titre': 'Portable 14\"IBM THINKPAD T30 Pent4 1.8Ghz, windXP', 'prix': '85\\xa0€', 'image': 'http://img5.leboncoin.fr/thumbs/600/600e9571b1072482c5d98b5970cf90a1d877c19f.jpg', 'location': 'Plaisir Yvelines', 'date': '15-9 10:31', 'url': 'http://www.leboncoin.fr/informatique/854949672.htm?ca=12_s'}, {'category': '', 'titre': \"Station d'accueil Lenovo Mini Dock\", 'prix': '100\\xa0€', 'image': 'http://img4.leboncoin.fr/thumbs/455/455d27b26ac7e4a73ebcadb8452a0cd799e2c30a.jpg', 'location': 'Paris 13ème', 'date': '15-9 08:40', 'url': 'http://www.leboncoin.fr/informatique/781263687.htm?ca=12_s'}, {'category': '', 'titre': 'Batterie LENOVO X220,x230 9cellules tout neuf', 'prix': '40\\xa0€', 'image': 'http://img6.leboncoin.fr/thumbs/f7d/f7d8d1985fdc19393e8e4f83f01c49a6ccdb19ec.jpg', 'location': \"Groslay Val-d'Oise\", 'date': '15-9 07:34', 'url': 'http://www.leboncoin.fr/informatique/854896009.htm?ca=12_s'}, {'category': '', 'titre': 'Écran 12.5\" Slim Lenovo ThinkPad X240,X240i,X240S', 'prix': '40\\xa0€', 'image': 'http://img6.leboncoin.fr/thumbs/1d0/1d071fe673afdb1fbcb840aab28433da7cfddda3.jpg', 'location': \"Montmagny Val-d'Oise\", 'date': '15-9 07:32', 'url': 'http://www.leboncoin.fr/informatique/854895554.htm?ca=12_s'}, {'category': '', 'titre': 'Ecran Dalle 11,6 \"', 'prix': '40\\xa0€', 'image': 'http://img4.leboncoin.fr/thumbs/81f/81fa8570cc5e3cd7f5b6fc4b67a8b559adf2978d.jpg', 'location': \"Montmagny Val-d'Oise\", 'date': '15-9 07:32', 'url': 'http://www.leboncoin.fr/informatique/854895553.htm?ca=12_s'}, {'category': '', 'titre': 'Processeur CPU intel i7 3610QM 2,3-3,3GHZ', 'prix': '90\\xa0€', 'image': 'http://img7.leboncoin.fr/thumbs/d34/d343540c684e90f403abdaaa766ff14d2b61b235.jpg', 'location': 'Paris 16ème', 'date': '15-9 00:15', 'url': 'http://www.leboncoin.fr/informatique/854873513.htm?ca=12_s'}]\n"
     ]
    }
   ],
   "source": [
    "def get_recent(computers): # get the computers listed TODAY\n",
    "    recent_computers = []\n",
    "    for computer in computers:\n",
    "        today = str(datetime.datetime.now().day) + '-' + str(datetime.datetime.now().month)\n",
    "        c = re.compile('Aujourd\\'hui')\n",
    "        if c.match(computer['date']):\n",
    "            computer['date'] = computer['date'].replace('Aujourd\\'hui', today)\n",
    "            recent_computers.append(computer)\n",
    "    return recent_computers"
   ]
  },
  {
   "cell_type": "code",
   "execution_count": 215,
   "metadata": {
    "collapsed": false
   },
   "outputs": [
    {
     "data": {
      "text/plain": [
       "{'category': '(pro)',\n",
       " 'date': '15-9 16:26',\n",
       " 'image': 'http://img4.leboncoin.fr/thumbs/47a/47acb766f4c314bf22cd2f6aa59a6903ade639f4.jpg',\n",
       " 'location': 'Clichy Hauts-de-Seine',\n",
       " 'prix': '95\\xa0€',\n",
       " 'titre': 'Ordinateur portable FUJI mobile U9200 C2D/CAM/DVD',\n",
       " 'url': 'http://www.leboncoin.fr/informatique/837929604.htm?ca=12_s'}"
      ]
     },
     "execution_count": 215,
     "metadata": {},
     "output_type": "execute_result"
    }
   ],
   "source": [
    "computers[1]"
   ]
  },
  {
   "cell_type": "code",
   "execution_count": 216,
   "metadata": {
    "collapsed": false
   },
   "outputs": [
    {
     "name": "stdout",
     "output_type": "stream",
     "text": [
      "15\n",
      "9\n"
     ]
    }
   ],
   "source": []
  },
  {
   "cell_type": "code",
   "execution_count": null,
   "metadata": {
    "collapsed": true
   },
   "outputs": [],
   "source": []
  }
 ],
 "metadata": {
  "kernelspec": {
   "display_name": "Python 3",
   "language": "python",
   "name": "python3"
  },
  "language_info": {
   "codemirror_mode": {
    "name": "ipython",
    "version": 3
   },
   "file_extension": ".py",
   "mimetype": "text/x-python",
   "name": "python",
   "nbconvert_exporter": "python",
   "pygments_lexer": "ipython3",
   "version": "3.4.3"
  }
 },
 "nbformat": 4,
 "nbformat_minor": 0
}
